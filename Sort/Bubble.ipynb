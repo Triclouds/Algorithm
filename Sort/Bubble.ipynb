{
 "cells": [
  {
   "cell_type": "code",
   "execution_count": null,
   "id": "59f0e098-af51-498f-8913-be253ca4c685",
   "metadata": {},
   "outputs": [],
   "source": []
  }
 ],
 "metadata": {
  "kernelspec": {
   "display_name": "Python 3 (ipykernel)",
   "language": "java",
   "name": "java"
  },
  "language_info": {
   "codemirror_mode": {
    "name": "ijava",
    "version": 10
   },
   "file_extension": ".java",
   "mimetype": "text/x-java",
   "name": "java",
   "nbconvert_exporter": "java",
   "pygments_lexer": "java",
   "version": "10"
  }
 },
 "nbformat": 4,
 "nbformat_minor": 5
}
