{
 "cells": [
  {
   "cell_type": "markdown",
   "id": "ceb8d238-e0df-41da-9d60-e9c8a96a6984",
   "metadata": {},
   "source": [
    "- 冒泡排序算法"
   ]
  },
  {
   "cell_type": "code",
   "execution_count": null,
   "id": "e867f1e2-855b-41db-a337-8ff0b638e3ac",
   "metadata": {
    "tags": []
   },
   "outputs": [],
   "source": [
    "def bubble_sort(arr):\n",
    "    n = len(arr)\n",
    "\n",
    "    for i in range(n):\n",
    "        # 最后 i 个元素已有序\n",
    "        for j in range(0, n-i-1):\n",
    "            # 把最大的元素移到右边\n",
    "            if arr[j] > arr[j+1]:\n",
    "                arr[j], arr[j+1] = arr[j+1], arr[j]\n",
    "        \n",
    "    return arr"
   ]
  },
  {
   "cell_type": "code",
   "execution_count": 2,
   "id": "f5a947ef-e472-4293-9d22-2ec40795d962",
   "metadata": {
    "tags": []
   },
   "outputs": [
    {
     "name": "stdout",
     "output_type": "stream",
     "text": [
      "[1, 1, 2, 3, 3, 4, 5, 5, 5, 6, 9]\n"
     ]
    }
   ],
   "source": [
    "my_list = [3, 1, 4, 1, 5, 9, 2, 6, 5, 3, 5]\n",
    "sorted_list = bubble_sort(my_list)\n",
    "print(sorted_list)"
   ]
  }
 ],
 "metadata": {
  "kernelspec": {
   "display_name": "Python 3 (ipykernel)",
   "language": "python",
   "name": "python3"
  },
  "language_info": {
   "codemirror_mode": {
    "name": "ipython",
    "version": 3
   },
   "file_extension": ".py",
   "mimetype": "text/x-python",
   "name": "python",
   "nbconvert_exporter": "python",
   "pygments_lexer": "ipython3",
   "version": "3.10.1"
  }
 },
 "nbformat": 4,
 "nbformat_minor": 5
}
